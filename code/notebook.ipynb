{
 "cells": [
  {
   "cell_type": "code",
   "execution_count": 86,
   "metadata": {},
   "outputs": [],
   "source": [
    "try:\n",
    "    import os\n",
    "    import glob\n",
    "    import pandas as pd\n",
    "    import matplotlib.pyplot as plt\n",
    "    #import seaborn as sns\n",
    "\n",
    "except ModuleNotFoundError:\n",
    "    %pip install pandas\n",
    "    #%pip install seaborn\n",
    "\n",
    "finally:\n",
    "    import os\n",
    "    import glob\n",
    "    import pandas as pd\n",
    "    import matplotlib.pyplot as plt\n",
    "    #import seaborn as sns\n",
    "    \n",
    "plt.style.use('fivethirtyeight')"
   ]
  },
  {
   "cell_type": "code",
   "execution_count": 87,
   "metadata": {},
   "outputs": [],
   "source": [
    "ROOT_FOLDER = '/home/root/AgeTest'"
   ]
  },
  {
   "attachments": {},
   "cell_type": "markdown",
   "metadata": {},
   "source": [
    "# AgeGen"
   ]
  },
  {
   "cell_type": "code",
   "execution_count": 88,
   "metadata": {},
   "outputs": [
    {
     "data": {
      "text/plain": [
       "['/home/root/AgeTest/csv/Age.xmodel_bomb1.csv',\n",
       " '/home/root/AgeTest/csv/Age.xmodel_bomb2.csv',\n",
       " '/home/root/AgeTest/csv/Age.xmodel_bomb2_nice.csv',\n",
       " '/home/root/AgeTest/csv/Age.xmodel_bomb1_nice.csv',\n",
       " '/home/root/AgeTest/csv/Age.xmodel.csv']"
      ]
     },
     "execution_count": 88,
     "metadata": {},
     "output_type": "execute_result"
    }
   ],
   "source": [
    "files = os.path.join(f'{ROOT_FOLDER}{os.sep}csv', \"Age*\")\n",
    "files = glob.glob(files)\n",
    "files"
   ]
  },
  {
   "cell_type": "code",
   "execution_count": 89,
   "metadata": {},
   "outputs": [],
   "source": [
    "df1 = pd.read_csv(files[0])\n",
    "df2 = pd.read_csv(files[1])\n",
    "df3 = pd.read_csv(files[2])\n",
    "df4 = pd.read_csv(files[3])\n",
    "df5 = pd.read_csv(files[4])"
   ]
  },
  {
   "cell_type": "code",
   "execution_count": 90,
   "metadata": {},
   "outputs": [
    {
     "data": {
      "text/html": [
       "<div>\n",
       "<style scoped>\n",
       "    .dataframe tbody tr th:only-of-type {\n",
       "        vertical-align: middle;\n",
       "    }\n",
       "\n",
       "    .dataframe tbody tr th {\n",
       "        vertical-align: top;\n",
       "    }\n",
       "\n",
       "    .dataframe thead th {\n",
       "        text-align: right;\n",
       "    }\n",
       "</style>\n",
       "<table border=\"1\" class=\"dataframe\">\n",
       "  <thead>\n",
       "    <tr style=\"text-align: right;\">\n",
       "      <th></th>\n",
       "      <th>img</th>\n",
       "      <th>time_bomb1</th>\n",
       "      <th>time_bomb2</th>\n",
       "      <th>time_bomb2_nice</th>\n",
       "      <th>time_bomb1_nice</th>\n",
       "      <th>time</th>\n",
       "    </tr>\n",
       "  </thead>\n",
       "  <tbody>\n",
       "    <tr>\n",
       "      <th>0</th>\n",
       "      <td>031940_3M53.JPG</td>\n",
       "      <td>0.008740</td>\n",
       "      <td>0.111812</td>\n",
       "      <td>0.230418</td>\n",
       "      <td>0.008619</td>\n",
       "      <td>0.008596</td>\n",
       "    </tr>\n",
       "    <tr>\n",
       "      <th>1</th>\n",
       "      <td>027529_01M62.JPG</td>\n",
       "      <td>0.008667</td>\n",
       "      <td>0.063639</td>\n",
       "      <td>0.099689</td>\n",
       "      <td>0.008548</td>\n",
       "      <td>0.008541</td>\n",
       "    </tr>\n",
       "    <tr>\n",
       "      <th>2</th>\n",
       "      <td>035285_2M53.JPG</td>\n",
       "      <td>0.008650</td>\n",
       "      <td>0.023885</td>\n",
       "      <td>0.027865</td>\n",
       "      <td>0.008499</td>\n",
       "      <td>0.008540</td>\n",
       "    </tr>\n",
       "    <tr>\n",
       "      <th>3</th>\n",
       "      <td>034280_00M56.JPG</td>\n",
       "      <td>0.008646</td>\n",
       "      <td>0.031874</td>\n",
       "      <td>0.031873</td>\n",
       "      <td>0.008530</td>\n",
       "      <td>0.008508</td>\n",
       "    </tr>\n",
       "    <tr>\n",
       "      <th>4</th>\n",
       "      <td>035735_04M58.JPG</td>\n",
       "      <td>0.008650</td>\n",
       "      <td>0.035878</td>\n",
       "      <td>0.027879</td>\n",
       "      <td>0.008523</td>\n",
       "      <td>0.008500</td>\n",
       "    </tr>\n",
       "  </tbody>\n",
       "</table>\n",
       "</div>"
      ],
      "text/plain": [
       "                img  time_bomb1  time_bomb2  time_bomb2_nice  time_bomb1_nice  \\\n",
       "0   031940_3M53.JPG    0.008740    0.111812         0.230418         0.008619   \n",
       "1  027529_01M62.JPG    0.008667    0.063639         0.099689         0.008548   \n",
       "2   035285_2M53.JPG    0.008650    0.023885         0.027865         0.008499   \n",
       "3  034280_00M56.JPG    0.008646    0.031874         0.031873         0.008530   \n",
       "4  035735_04M58.JPG    0.008650    0.035878         0.027879         0.008523   \n",
       "\n",
       "       time  \n",
       "0  0.008596  \n",
       "1  0.008541  \n",
       "2  0.008540  \n",
       "3  0.008508  \n",
       "4  0.008500  "
      ]
     },
     "execution_count": 90,
     "metadata": {},
     "output_type": "execute_result"
    }
   ],
   "source": [
    "merged_df = pd.merge(df1, df2, on='img')\n",
    "merged_df = pd.merge(merged_df, df3, on='img')\n",
    "merged_df = pd.merge(merged_df, df4, on='img')\n",
    "merged_df = pd.merge(merged_df, df5, on='img')\n",
    "merged_df.head()"
   ]
  },
  {
   "cell_type": "code",
   "execution_count": 91,
   "metadata": {},
   "outputs": [],
   "source": [
    "#merged_df['overhead_increase_bomb1'] = abs(merged_df['time'] - merged_df['time_bomb1'])/merged_df['time'] * 100\n",
    "#merged_df['overhead_increase_bomb2'] = abs(merged_df['time'] - merged_df['time_bomb2'])/merged_df['time'] * 100"
   ]
  },
  {
   "cell_type": "code",
   "execution_count": 92,
   "metadata": {},
   "outputs": [
    {
     "data": {
      "text/html": [
       "<div>\n",
       "<style scoped>\n",
       "    .dataframe tbody tr th:only-of-type {\n",
       "        vertical-align: middle;\n",
       "    }\n",
       "\n",
       "    .dataframe tbody tr th {\n",
       "        vertical-align: top;\n",
       "    }\n",
       "\n",
       "    .dataframe thead th {\n",
       "        text-align: right;\n",
       "    }\n",
       "</style>\n",
       "<table border=\"1\" class=\"dataframe\">\n",
       "  <thead>\n",
       "    <tr style=\"text-align: right;\">\n",
       "      <th></th>\n",
       "      <th>img</th>\n",
       "      <th>time_bomb1</th>\n",
       "      <th>time_bomb2</th>\n",
       "      <th>time_bomb2_nice</th>\n",
       "      <th>time_bomb1_nice</th>\n",
       "      <th>time</th>\n",
       "    </tr>\n",
       "  </thead>\n",
       "  <tbody>\n",
       "    <tr>\n",
       "      <th>0</th>\n",
       "      <td>031940_3M53.JPG</td>\n",
       "      <td>0.008740</td>\n",
       "      <td>0.111812</td>\n",
       "      <td>0.230418</td>\n",
       "      <td>0.008619</td>\n",
       "      <td>0.008596</td>\n",
       "    </tr>\n",
       "    <tr>\n",
       "      <th>1</th>\n",
       "      <td>027529_01M62.JPG</td>\n",
       "      <td>0.008667</td>\n",
       "      <td>0.063639</td>\n",
       "      <td>0.099689</td>\n",
       "      <td>0.008548</td>\n",
       "      <td>0.008541</td>\n",
       "    </tr>\n",
       "    <tr>\n",
       "      <th>2</th>\n",
       "      <td>035285_2M53.JPG</td>\n",
       "      <td>0.008650</td>\n",
       "      <td>0.023885</td>\n",
       "      <td>0.027865</td>\n",
       "      <td>0.008499</td>\n",
       "      <td>0.008540</td>\n",
       "    </tr>\n",
       "    <tr>\n",
       "      <th>3</th>\n",
       "      <td>034280_00M56.JPG</td>\n",
       "      <td>0.008646</td>\n",
       "      <td>0.031874</td>\n",
       "      <td>0.031873</td>\n",
       "      <td>0.008530</td>\n",
       "      <td>0.008508</td>\n",
       "    </tr>\n",
       "    <tr>\n",
       "      <th>4</th>\n",
       "      <td>035735_04M58.JPG</td>\n",
       "      <td>0.008650</td>\n",
       "      <td>0.035878</td>\n",
       "      <td>0.027879</td>\n",
       "      <td>0.008523</td>\n",
       "      <td>0.008500</td>\n",
       "    </tr>\n",
       "  </tbody>\n",
       "</table>\n",
       "</div>"
      ],
      "text/plain": [
       "                img  time_bomb1  time_bomb2  time_bomb2_nice  time_bomb1_nice  \\\n",
       "0   031940_3M53.JPG    0.008740    0.111812         0.230418         0.008619   \n",
       "1  027529_01M62.JPG    0.008667    0.063639         0.099689         0.008548   \n",
       "2   035285_2M53.JPG    0.008650    0.023885         0.027865         0.008499   \n",
       "3  034280_00M56.JPG    0.008646    0.031874         0.031873         0.008530   \n",
       "4  035735_04M58.JPG    0.008650    0.035878         0.027879         0.008523   \n",
       "\n",
       "       time  \n",
       "0  0.008596  \n",
       "1  0.008541  \n",
       "2  0.008540  \n",
       "3  0.008508  \n",
       "4  0.008500  "
      ]
     },
     "execution_count": 92,
     "metadata": {},
     "output_type": "execute_result"
    }
   ],
   "source": [
    "merged_df.to_csv(f'/{ROOT_FOLDER}/age_gen_merged.csv')\n",
    "merged_df.head()"
   ]
  },
  {
   "cell_type": "code",
   "execution_count": 93,
   "metadata": {},
   "outputs": [
    {
     "data": {
      "text/html": [
       "<div>\n",
       "<style scoped>\n",
       "    .dataframe tbody tr th:only-of-type {\n",
       "        vertical-align: middle;\n",
       "    }\n",
       "\n",
       "    .dataframe tbody tr th {\n",
       "        vertical-align: top;\n",
       "    }\n",
       "\n",
       "    .dataframe thead th {\n",
       "        text-align: right;\n",
       "    }\n",
       "</style>\n",
       "<table border=\"1\" class=\"dataframe\">\n",
       "  <thead>\n",
       "    <tr style=\"text-align: right;\">\n",
       "      <th></th>\n",
       "      <th>index</th>\n",
       "      <th>time</th>\n",
       "    </tr>\n",
       "  </thead>\n",
       "  <tbody>\n",
       "    <tr>\n",
       "      <th>3</th>\n",
       "      <td>bomb1_nice</td>\n",
       "      <td>0.848802</td>\n",
       "    </tr>\n",
       "    <tr>\n",
       "      <th>4</th>\n",
       "      <td>isolated</td>\n",
       "      <td>0.850791</td>\n",
       "    </tr>\n",
       "    <tr>\n",
       "      <th>0</th>\n",
       "      <td>bomb1</td>\n",
       "      <td>0.851317</td>\n",
       "    </tr>\n",
       "    <tr>\n",
       "      <th>1</th>\n",
       "      <td>bomb2</td>\n",
       "      <td>3.012062</td>\n",
       "    </tr>\n",
       "    <tr>\n",
       "      <th>2</th>\n",
       "      <td>bomb2_nice</td>\n",
       "      <td>3.210704</td>\n",
       "    </tr>\n",
       "  </tbody>\n",
       "</table>\n",
       "</div>"
      ],
      "text/plain": [
       "        index      time\n",
       "3  bomb1_nice  0.848802\n",
       "4    isolated  0.850791\n",
       "0       bomb1  0.851317\n",
       "1       bomb2  3.012062\n",
       "2  bomb2_nice  3.210704"
      ]
     },
     "execution_count": 93,
     "metadata": {},
     "output_type": "execute_result"
    }
   ],
   "source": [
    "temp_df = merged_df.loc[:, merged_df.columns!='img'].sum(axis=0).to_frame().reset_index()\n",
    "temp_df = temp_df.rename(columns={'index': 'index', 0: 'time'})\n",
    "temp_df = temp_df.sort_values(by='time')\n",
    "temp_df['index'] = temp_df['index'].replace(['time'], 'isolated')\n",
    "temp_df['index'] = temp_df['index'].apply(lambda x: x.replace('time_', ''))\n",
    "temp_df.head()"
   ]
  },
  {
   "cell_type": "code",
   "execution_count": 94,
   "metadata": {},
   "outputs": [
    {
     "data": {
      "image/png": "[encoded data removed]",
      "text/plain": [
       "<Figure size 720x576 with 1 Axes>"
      ]
     },
     "metadata": {},
     "output_type": "display_data"
    }
   ],
   "source": [
    "colors = plt.cm.get_cmap('Set1')\n",
    "\n",
    "ax = temp_df.plot(\n",
    "    kind='bar', \n",
    "    x='index', \n",
    "    y='time',\n",
    "    xlabel='',\n",
    "    ylabel='Response time (seconds)',\n",
    "    grid=True,\n",
    "    legend=False,\n",
    "    figsize=(10,8),\n",
    "    title='Response time of AgeGen model (in seconds)',\n",
    "    rot=45,\n",
    "    color=colors(range(len(temp_df))),\n",
    ")\n",
    "\n",
    "ax.spines['top'].set_visible(False)\n",
    "ax.spines['right'].set_visible(False)\n",
    "\n",
    "plt.tight_layout()\n",
    "\n",
    "plt.show()"
   ]
  },
  {
   "attachments": {},
   "cell_type": "markdown",
   "metadata": {},
   "source": [
    "# ResNet50"
   ]
  },
  {
   "cell_type": "code",
   "execution_count": 95,
   "metadata": {},
   "outputs": [
    {
     "data": {
      "text/plain": [
       "['/home/root/AgeTest/csv/resnet50.xmodel_bomb1_nice.csv',\n",
       " '/home/root/AgeTest/csv/resnet50.xmodel_bomb1.csv',\n",
       " '/home/root/AgeTest/csv/resnet50.xmodel.csv',\n",
       " '/home/root/AgeTest/csv/resnet50.xmodel_bomb2_nice.csv',\n",
       " '/home/root/AgeTest/csv/resnet50.xmodel_bomb2.csv']"
      ]
     },
     "execution_count": 95,
     "metadata": {},
     "output_type": "execute_result"
    }
   ],
   "source": [
    "files = os.path.join(f'{ROOT_FOLDER}{os.sep}csv', \"resnet*\")\n",
    "files = glob.glob(files)\n",
    "files"
   ]
  },
  {
   "cell_type": "code",
   "execution_count": 96,
   "metadata": {},
   "outputs": [],
   "source": [
    "df1 = pd.read_csv(files[0])\n",
    "df2 = pd.read_csv(files[1])\n",
    "df3 = pd.read_csv(files[2])\n",
    "df4 = pd.read_csv(files[3])\n",
    "df5 = pd.read_csv(files[4])"
   ]
  },
  {
   "cell_type": "code",
   "execution_count": 97,
   "metadata": {},
   "outputs": [],
   "source": [
    "merged_df = pd.merge(df1, df2, on='img')\n",
    "merged_df = pd.merge(merged_df, df3, on='img')\n",
    "merged_df = pd.merge(merged_df, df4, on='img')\n",
    "merged_df = pd.merge(merged_df, df5, on='img')"
   ]
  },
  {
   "cell_type": "code",
   "execution_count": 98,
   "metadata": {},
   "outputs": [
    {
     "data": {
      "text/html": [
       "<div>\n",
       "<style scoped>\n",
       "    .dataframe tbody tr th:only-of-type {\n",
       "        vertical-align: middle;\n",
       "    }\n",
       "\n",
       "    .dataframe tbody tr th {\n",
       "        vertical-align: top;\n",
       "    }\n",
       "\n",
       "    .dataframe thead th {\n",
       "        text-align: right;\n",
       "    }\n",
       "</style>\n",
       "<table border=\"1\" class=\"dataframe\">\n",
       "  <thead>\n",
       "    <tr style=\"text-align: right;\">\n",
       "      <th></th>\n",
       "      <th>img</th>\n",
       "      <th>time_bomb1_nice</th>\n",
       "      <th>time_bomb1</th>\n",
       "      <th>time</th>\n",
       "      <th>time_bomb2_nice</th>\n",
       "      <th>time_bomb2</th>\n",
       "    </tr>\n",
       "  </thead>\n",
       "  <tbody>\n",
       "    <tr>\n",
       "      <th>0</th>\n",
       "      <td>031940_3M53.JPG</td>\n",
       "      <td>0.002359</td>\n",
       "      <td>0.002345</td>\n",
       "      <td>0.002344</td>\n",
       "      <td>0.063390</td>\n",
       "      <td>0.002368</td>\n",
       "    </tr>\n",
       "    <tr>\n",
       "      <th>1</th>\n",
       "      <td>027529_01M62.JPG</td>\n",
       "      <td>0.002278</td>\n",
       "      <td>0.002266</td>\n",
       "      <td>0.002272</td>\n",
       "      <td>0.040700</td>\n",
       "      <td>0.002308</td>\n",
       "    </tr>\n",
       "    <tr>\n",
       "      <th>2</th>\n",
       "      <td>035285_2M53.JPG</td>\n",
       "      <td>0.002250</td>\n",
       "      <td>0.002254</td>\n",
       "      <td>0.002256</td>\n",
       "      <td>0.039745</td>\n",
       "      <td>0.005629</td>\n",
       "    </tr>\n",
       "    <tr>\n",
       "      <th>3</th>\n",
       "      <td>034280_00M56.JPG</td>\n",
       "      <td>0.002228</td>\n",
       "      <td>0.002221</td>\n",
       "      <td>0.002225</td>\n",
       "      <td>0.031873</td>\n",
       "      <td>0.031850</td>\n",
       "    </tr>\n",
       "    <tr>\n",
       "      <th>4</th>\n",
       "      <td>035735_04M58.JPG</td>\n",
       "      <td>0.002219</td>\n",
       "      <td>0.002215</td>\n",
       "      <td>0.002216</td>\n",
       "      <td>0.019890</td>\n",
       "      <td>0.023884</td>\n",
       "    </tr>\n",
       "  </tbody>\n",
       "</table>\n",
       "</div>"
      ],
      "text/plain": [
       "                img  time_bomb1_nice  time_bomb1      time  time_bomb2_nice  \\\n",
       "0   031940_3M53.JPG         0.002359    0.002345  0.002344         0.063390   \n",
       "1  027529_01M62.JPG         0.002278    0.002266  0.002272         0.040700   \n",
       "2   035285_2M53.JPG         0.002250    0.002254  0.002256         0.039745   \n",
       "3  034280_00M56.JPG         0.002228    0.002221  0.002225         0.031873   \n",
       "4  035735_04M58.JPG         0.002219    0.002215  0.002216         0.019890   \n",
       "\n",
       "   time_bomb2  \n",
       "0    0.002368  \n",
       "1    0.002308  \n",
       "2    0.005629  \n",
       "3    0.031850  \n",
       "4    0.023884  "
      ]
     },
     "execution_count": 98,
     "metadata": {},
     "output_type": "execute_result"
    }
   ],
   "source": [
    "merged_df.to_csv(f'/{ROOT_FOLDER}/resnet50_merged.csv')\n",
    "merged_df.head()"
   ]
  },
  {
   "cell_type": "code",
   "execution_count": 99,
   "metadata": {},
   "outputs": [
    {
     "data": {
      "text/html": [
       "<div>\n",
       "<style scoped>\n",
       "    .dataframe tbody tr th:only-of-type {\n",
       "        vertical-align: middle;\n",
       "    }\n",
       "\n",
       "    .dataframe tbody tr th {\n",
       "        vertical-align: top;\n",
       "    }\n",
       "\n",
       "    .dataframe thead th {\n",
       "        text-align: right;\n",
       "    }\n",
       "</style>\n",
       "<table border=\"1\" class=\"dataframe\">\n",
       "  <thead>\n",
       "    <tr style=\"text-align: right;\">\n",
       "      <th></th>\n",
       "      <th>index</th>\n",
       "      <th>time</th>\n",
       "    </tr>\n",
       "  </thead>\n",
       "  <tbody>\n",
       "    <tr>\n",
       "      <th>1</th>\n",
       "      <td>bomb1</td>\n",
       "      <td>0.221112</td>\n",
       "    </tr>\n",
       "    <tr>\n",
       "      <th>0</th>\n",
       "      <td>bomb1_nice</td>\n",
       "      <td>0.221572</td>\n",
       "    </tr>\n",
       "    <tr>\n",
       "      <th>2</th>\n",
       "      <td>isolated</td>\n",
       "      <td>0.221622</td>\n",
       "    </tr>\n",
       "    <tr>\n",
       "      <th>4</th>\n",
       "      <td>bomb2</td>\n",
       "      <td>2.427066</td>\n",
       "    </tr>\n",
       "    <tr>\n",
       "      <th>3</th>\n",
       "      <td>bomb2_nice</td>\n",
       "      <td>2.469812</td>\n",
       "    </tr>\n",
       "  </tbody>\n",
       "</table>\n",
       "</div>"
      ],
      "text/plain": [
       "        index      time\n",
       "1       bomb1  0.221112\n",
       "0  bomb1_nice  0.221572\n",
       "2    isolated  0.221622\n",
       "4       bomb2  2.427066\n",
       "3  bomb2_nice  2.469812"
      ]
     },
     "execution_count": 99,
     "metadata": {},
     "output_type": "execute_result"
    }
   ],
   "source": [
    "temp_df = merged_df.loc[:, merged_df.columns!='img'].sum(axis=0).to_frame().reset_index()\n",
    "temp_df = temp_df.rename(columns={'index': 'index', 0: 'time'})\n",
    "temp_df = temp_df.sort_values(by='time')\n",
    "temp_df['index'] = temp_df['index'].replace(['time'], 'isolated')\n",
    "temp_df['index'] = temp_df['index'].apply(lambda x: x.replace('time_', ''))\n",
    "temp_df.head()"
   ]
  },
  {
   "cell_type": "code",
   "execution_count": 100,
   "metadata": {},
   "outputs": [
    {
     "data": {
      "image/png": "[encoded data removed]",
      "text/plain": [
       "<Figure size 720x576 with 1 Axes>"
      ]
     },
     "metadata": {},
     "output_type": "display_data"
    }
   ],
   "source": [
    "colors = plt.cm.get_cmap('Set1')\n",
    "\n",
    "ax = temp_df.plot(\n",
    "    kind='bar', \n",
    "    x='index', \n",
    "    y='time',\n",
    "    xlabel='',\n",
    "    ylabel='Response time (seconds)',\n",
    "    grid=True,\n",
    "    legend=False,\n",
    "    figsize=(10,8),\n",
    "    title='Response time of ResNet50 model (in seconds)',\n",
    "    rot=45,\n",
    "    color=colors(range(len(temp_df))),\n",
    ")\n",
    "\n",
    "ax.spines['top'].set_visible(False)\n",
    "ax.spines['right'].set_visible(False)\n",
    "\n",
    "plt.tight_layout()\n",
    "\n",
    "plt.show()"
   ]
  },
  {
   "cell_type": "code",
   "execution_count": null,
   "metadata": {},
   "outputs": [],
   "source": [
    "#import libxperfmon\n",
    "#import os\n",
    "#from time import sleep\n",
    "\n",
    "#def get_pfm_name():\n",
    "#    pfms = {\n",
    "#        'vcap_csi'  : 'preset_pfm1',\n",
    "#        'vcap_gmsl' : 'preset_pfm2',\n",
    "#        'vcap_hdmi' : 'preset_pfm3'\n",
    "#    }\n",
    "#    for p in pfms:\n",
    "#        if os.path.exists(\"/sys/firmware/devicetree/base/amba_pl@0/\" + p) == True:\n",
    "#            return pfms[p]"
   ]
  },
  {
   "cell_type": "code",
   "execution_count": null,
   "metadata": {},
   "outputs": [],
   "source": [
    "#get_pfm_name()"
   ]
  },
  {
   "cell_type": "code",
   "execution_count": null,
   "metadata": {},
   "outputs": [],
   "source": [
    "#getattr(libxperfmon,get_pfm_name())"
   ]
  },
  {
   "cell_type": "code",
   "execution_count": null,
   "metadata": {},
   "outputs": [],
   "source": [
    "#apm = libxperfmon.APM(getattr(libxperfmon,get_pfm_name()))\n",
    "#while True:\n",
    "#    print([apm.port[i].getThroughput(libxperfmon.Gbps) for i in range(2)])\n",
    "#    sleep(.5)"
   ]
  }
 ],
 "metadata": {
  "kernelspec": {
   "display_name": "Python 3",
   "language": "python",
   "name": "python3"
  },
  "language_info": {
   "codemirror_mode": {
    "name": "ipython",
    "version": 3
   },
   "file_extension": ".py",
   "mimetype": "text/x-python",
   "name": "python",
   "nbconvert_exporter": "python",
   "pygments_lexer": "ipython3",
   "version": "3.8.8"
  }
 },
 "nbformat": 4,
 "nbformat_minor": 4
}
